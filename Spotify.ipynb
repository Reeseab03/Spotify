{
 "cells": [
  {
   "cell_type": "code",
   "execution_count": 1,
   "id": "2387c17d",
   "metadata": {},
   "outputs": [],
   "source": [
    "# Install and import the required libraries \n",
    "import pandas as pd\n",
    "import numpy as np\n",
    "import matplotlib.pyplot as plt\n",
    "import seaborn as sns\n",
    "import warnings\n",
    "warnings.filterwarnings('ignore')\n"
   ]
  },
  {
   "cell_type": "markdown",
   "id": "c27af685",
   "metadata": {},
   "source": [
    "# Introduction\n",
    "\n",
    "### Our dataset is about the stats of spotify music from 1986 to 2023\n",
    "### This dataset contains 35 columns with information about Track, Album, Artist, and Audio"
   ]
  },
  {
   "cell_type": "code",
   "execution_count": 2,
   "id": "cddcb2b5",
   "metadata": {},
   "outputs": [],
   "source": [
    "df=pd.read_csv('Spotify 2.csv', encoding='ISO-8859-1')"
   ]
  },
  {
   "cell_type": "code",
   "execution_count": 3,
   "id": "c38615e3",
   "metadata": {},
   "outputs": [
    {
     "data": {
      "text/html": [
       "<div>\n",
       "<style scoped>\n",
       "    .dataframe tbody tr th:only-of-type {\n",
       "        vertical-align: middle;\n",
       "    }\n",
       "\n",
       "    .dataframe tbody tr th {\n",
       "        vertical-align: top;\n",
       "    }\n",
       "\n",
       "    .dataframe thead th {\n",
       "        text-align: right;\n",
       "    }\n",
       "</style>\n",
       "<table border=\"1\" class=\"dataframe\">\n",
       "  <thead>\n",
       "    <tr style=\"text-align: right;\">\n",
       "      <th></th>\n",
       "      <th>Unnamed: 0.1</th>\n",
       "      <th>Unnamed: 0</th>\n",
       "      <th>track_name</th>\n",
       "      <th>popularity</th>\n",
       "      <th>disc_number</th>\n",
       "      <th>duration_ms</th>\n",
       "      <th>explicit</th>\n",
       "      <th>track_number</th>\n",
       "      <th>album_name</th>\n",
       "      <th>album_release_date</th>\n",
       "      <th>...</th>\n",
       "      <th>key</th>\n",
       "      <th>liveness</th>\n",
       "      <th>loudness</th>\n",
       "      <th>mode</th>\n",
       "      <th>speechiness</th>\n",
       "      <th>tempo</th>\n",
       "      <th>time_signature</th>\n",
       "      <th>valence</th>\n",
       "      <th>year</th>\n",
       "      <th>duration_min</th>\n",
       "    </tr>\n",
       "  </thead>\n",
       "  <tbody>\n",
       "    <tr>\n",
       "      <th>0</th>\n",
       "      <td>0</td>\n",
       "      <td>0</td>\n",
       "      <td>True Colors</td>\n",
       "      <td>73</td>\n",
       "      <td>1</td>\n",
       "      <td>227600</td>\n",
       "      <td>False</td>\n",
       "      <td>4</td>\n",
       "      <td>True Colors</td>\n",
       "      <td>1986-10-14 00:00:00</td>\n",
       "      <td>...</td>\n",
       "      <td>0.0</td>\n",
       "      <td>0.1160</td>\n",
       "      <td>-13.155</td>\n",
       "      <td>1.0</td>\n",
       "      <td>0.0331</td>\n",
       "      <td>171.282</td>\n",
       "      <td>4.0</td>\n",
       "      <td>0.268</td>\n",
       "      <td>1986</td>\n",
       "      <td>3.793333</td>\n",
       "    </tr>\n",
       "    <tr>\n",
       "      <th>1</th>\n",
       "      <td>1</td>\n",
       "      <td>1</td>\n",
       "      <td>Paul Revere</td>\n",
       "      <td>61</td>\n",
       "      <td>1</td>\n",
       "      <td>220840</td>\n",
       "      <td>False</td>\n",
       "      <td>9</td>\n",
       "      <td>Licensed To Ill</td>\n",
       "      <td>1986-11-15 00:00:00</td>\n",
       "      <td>...</td>\n",
       "      <td>6.0</td>\n",
       "      <td>0.2280</td>\n",
       "      <td>-13.232</td>\n",
       "      <td>0.0</td>\n",
       "      <td>0.9440</td>\n",
       "      <td>91.753</td>\n",
       "      <td>4.0</td>\n",
       "      <td>0.578</td>\n",
       "      <td>1986</td>\n",
       "      <td>3.680667</td>\n",
       "    </tr>\n",
       "    <tr>\n",
       "      <th>2</th>\n",
       "      <td>2</td>\n",
       "      <td>2</td>\n",
       "      <td>Brass Monkey</td>\n",
       "      <td>68</td>\n",
       "      <td>1</td>\n",
       "      <td>157440</td>\n",
       "      <td>False</td>\n",
       "      <td>11</td>\n",
       "      <td>Licensed To Ill</td>\n",
       "      <td>1986-11-15 00:00:00</td>\n",
       "      <td>...</td>\n",
       "      <td>6.0</td>\n",
       "      <td>0.0992</td>\n",
       "      <td>-8.435</td>\n",
       "      <td>0.0</td>\n",
       "      <td>0.3300</td>\n",
       "      <td>116.371</td>\n",
       "      <td>4.0</td>\n",
       "      <td>0.655</td>\n",
       "      <td>1986</td>\n",
       "      <td>2.624000</td>\n",
       "    </tr>\n",
       "    <tr>\n",
       "      <th>3</th>\n",
       "      <td>3</td>\n",
       "      <td>3</td>\n",
       "      <td>Shot in the Dark</td>\n",
       "      <td>66</td>\n",
       "      <td>1</td>\n",
       "      <td>256293</td>\n",
       "      <td>False</td>\n",
       "      <td>9</td>\n",
       "      <td>The Ultimate Sin</td>\n",
       "      <td>1986-02-22 00:00:00</td>\n",
       "      <td>...</td>\n",
       "      <td>6.0</td>\n",
       "      <td>0.1420</td>\n",
       "      <td>-7.262</td>\n",
       "      <td>1.0</td>\n",
       "      <td>0.0324</td>\n",
       "      <td>123.887</td>\n",
       "      <td>3.0</td>\n",
       "      <td>0.619</td>\n",
       "      <td>1986</td>\n",
       "      <td>4.271550</td>\n",
       "    </tr>\n",
       "    <tr>\n",
       "      <th>4</th>\n",
       "      <td>4</td>\n",
       "      <td>4</td>\n",
       "      <td>Manic Monday</td>\n",
       "      <td>63</td>\n",
       "      <td>1</td>\n",
       "      <td>184160</td>\n",
       "      <td>False</td>\n",
       "      <td>1</td>\n",
       "      <td>Different Light (Expanded Edition)</td>\n",
       "      <td>1986-01-01 00:00:00</td>\n",
       "      <td>...</td>\n",
       "      <td>2.0</td>\n",
       "      <td>0.3580</td>\n",
       "      <td>-10.906</td>\n",
       "      <td>1.0</td>\n",
       "      <td>0.0289</td>\n",
       "      <td>121.761</td>\n",
       "      <td>4.0</td>\n",
       "      <td>0.853</td>\n",
       "      <td>1986</td>\n",
       "      <td>3.069333</td>\n",
       "    </tr>\n",
       "  </tbody>\n",
       "</table>\n",
       "<p>5 rows × 30 columns</p>\n",
       "</div>"
      ],
      "text/plain": [
       "   Unnamed: 0.1  Unnamed: 0        track_name  popularity  disc_number  \\\n",
       "0             0           0       True Colors          73            1   \n",
       "1             1           1       Paul Revere          61            1   \n",
       "2             2           2      Brass Monkey          68            1   \n",
       "3             3           3  Shot in the Dark          66            1   \n",
       "4             4           4      Manic Monday          63            1   \n",
       "\n",
       "   duration_ms  explicit  track_number                          album_name  \\\n",
       "0       227600     False             4                         True Colors   \n",
       "1       220840     False             9                     Licensed To Ill   \n",
       "2       157440     False            11                     Licensed To Ill   \n",
       "3       256293     False             9                    The Ultimate Sin   \n",
       "4       184160     False             1  Different Light (Expanded Edition)   \n",
       "\n",
       "    album_release_date  ...  key  liveness loudness mode speechiness    tempo  \\\n",
       "0  1986-10-14 00:00:00  ...  0.0    0.1160  -13.155  1.0      0.0331  171.282   \n",
       "1  1986-11-15 00:00:00  ...  6.0    0.2280  -13.232  0.0      0.9440   91.753   \n",
       "2  1986-11-15 00:00:00  ...  6.0    0.0992   -8.435  0.0      0.3300  116.371   \n",
       "3  1986-02-22 00:00:00  ...  6.0    0.1420   -7.262  1.0      0.0324  123.887   \n",
       "4  1986-01-01 00:00:00  ...  2.0    0.3580  -10.906  1.0      0.0289  121.761   \n",
       "\n",
       "   time_signature  valence  year  duration_min  \n",
       "0             4.0    0.268  1986      3.793333  \n",
       "1             4.0    0.578  1986      3.680667  \n",
       "2             4.0    0.655  1986      2.624000  \n",
       "3             3.0    0.619  1986      4.271550  \n",
       "4             4.0    0.853  1986      3.069333  \n",
       "\n",
       "[5 rows x 30 columns]"
      ]
     },
     "execution_count": 3,
     "metadata": {},
     "output_type": "execute_result"
    }
   ],
   "source": [
    "df.head()"
   ]
  },
  {
   "cell_type": "code",
   "execution_count": 4,
   "id": "997cd1b6",
   "metadata": {},
   "outputs": [
    {
     "name": "stdout",
     "output_type": "stream",
     "text": [
      "<class 'pandas.core.frame.DataFrame'>\n",
      "RangeIndex: 11450 entries, 0 to 11449\n",
      "Data columns (total 30 columns):\n",
      " #   Column                      Non-Null Count  Dtype  \n",
      "---  ------                      --------------  -----  \n",
      " 0   Unnamed: 0.1                11450 non-null  int64  \n",
      " 1   Unnamed: 0                  11450 non-null  int64  \n",
      " 2   track_name                  11450 non-null  object \n",
      " 3   popularity                  11450 non-null  int64  \n",
      " 4   disc_number                 11450 non-null  int64  \n",
      " 5   duration_ms                 11450 non-null  int64  \n",
      " 6   explicit                    11450 non-null  bool   \n",
      " 7   track_number                11450 non-null  int64  \n",
      " 8   album_name                  11450 non-null  object \n",
      " 9   album_release_date          11450 non-null  object \n",
      " 10  album_type                  11450 non-null  object \n",
      " 11  album_total_tracks          11450 non-null  int64  \n",
      " 12  artists_names               11450 non-null  object \n",
      " 13  principal_artist_name       11450 non-null  object \n",
      " 14  artist_genres               11333 non-null  object \n",
      " 15  principal_artist_followers  11449 non-null  float64\n",
      " 16  acousticness                11445 non-null  float64\n",
      " 17  danceability                11445 non-null  float64\n",
      " 18  energy                      11445 non-null  float64\n",
      " 19  instrumentalness            11445 non-null  float64\n",
      " 20  key                         11445 non-null  float64\n",
      " 21  liveness                    11445 non-null  float64\n",
      " 22  loudness                    11445 non-null  float64\n",
      " 23  mode                        11445 non-null  float64\n",
      " 24  speechiness                 11445 non-null  float64\n",
      " 25  tempo                       11445 non-null  float64\n",
      " 26  time_signature              11445 non-null  float64\n",
      " 27  valence                     11445 non-null  float64\n",
      " 28  year                        11450 non-null  int64  \n",
      " 29  duration_min                11450 non-null  float64\n",
      "dtypes: bool(1), float64(14), int64(8), object(7)\n",
      "memory usage: 2.5+ MB\n"
     ]
    }
   ],
   "source": [
    "df.info()"
   ]
  },
  {
   "cell_type": "code",
   "execution_count": 5,
   "id": "a19e4034",
   "metadata": {},
   "outputs": [
    {
     "data": {
      "text/plain": [
       "Index(['Unnamed: 0.1', 'Unnamed: 0', 'track_name', 'popularity', 'disc_number',\n",
       "       'duration_ms', 'explicit', 'track_number', 'album_name',\n",
       "       'album_release_date', 'album_type', 'album_total_tracks',\n",
       "       'artists_names', 'principal_artist_name', 'artist_genres',\n",
       "       'principal_artist_followers', 'acousticness', 'danceability', 'energy',\n",
       "       'instrumentalness', 'key', 'liveness', 'loudness', 'mode',\n",
       "       'speechiness', 'tempo', 'time_signature', 'valence', 'year',\n",
       "       'duration_min'],\n",
       "      dtype='object')"
      ]
     },
     "execution_count": 5,
     "metadata": {},
     "output_type": "execute_result"
    }
   ],
   "source": [
    "df.columns"
   ]
  },
  {
   "cell_type": "code",
   "execution_count": 6,
   "id": "245c3559",
   "metadata": {},
   "outputs": [
    {
     "data": {
      "text/plain": [
       "(11450, 30)"
      ]
     },
     "execution_count": 6,
     "metadata": {},
     "output_type": "execute_result"
    }
   ],
   "source": [
    "df.shape"
   ]
  },
  {
   "cell_type": "code",
   "execution_count": 7,
   "id": "27163f96",
   "metadata": {},
   "outputs": [
    {
     "name": "stdout",
     "output_type": "stream",
     "text": [
      "In the Data rows is 11450 and column is 30\n"
     ]
    }
   ],
   "source": [
    "print(f'In the Data rows is {df.shape[0]} and column is {df.shape[1]}')"
   ]
  },
  {
   "cell_type": "code",
   "execution_count": 8,
   "id": "9af98e96",
   "metadata": {},
   "outputs": [
    {
     "data": {
      "text/plain": [
       "artist_genres                 117\n",
       "acousticness                    5\n",
       "valence                         5\n",
       "time_signature                  5\n",
       "tempo                           5\n",
       "speechiness                     5\n",
       "mode                            5\n",
       "loudness                        5\n",
       "liveness                        5\n",
       "key                             5\n",
       "instrumentalness                5\n",
       "energy                          5\n",
       "danceability                    5\n",
       "principal_artist_followers      1\n",
       "year                            0\n",
       "Unnamed: 0.1                    0\n",
       "Unnamed: 0                      0\n",
       "principal_artist_name           0\n",
       "artists_names                   0\n",
       "album_total_tracks              0\n",
       "album_type                      0\n",
       "album_release_date              0\n",
       "album_name                      0\n",
       "track_number                    0\n",
       "explicit                        0\n",
       "duration_ms                     0\n",
       "disc_number                     0\n",
       "popularity                      0\n",
       "track_name                      0\n",
       "duration_min                    0\n",
       "dtype: int64"
      ]
     },
     "execution_count": 8,
     "metadata": {},
     "output_type": "execute_result"
    }
   ],
   "source": [
    "df.isna().sum().sort_values(ascending=False)"
   ]
  },
  {
   "cell_type": "code",
   "execution_count": 9,
   "id": "bd558cf7",
   "metadata": {},
   "outputs": [
    {
     "name": "stdout",
     "output_type": "stream",
     "text": [
      "pop\n"
     ]
    }
   ],
   "source": [
    "genre=df['artist_genres'].mode()[0]\n",
    "print(genre)"
   ]
  },
  {
   "cell_type": "code",
   "execution_count": 10,
   "id": "98a85d8c",
   "metadata": {},
   "outputs": [
    {
     "data": {
      "text/plain": [
       "0"
      ]
     },
     "execution_count": 10,
     "metadata": {},
     "output_type": "execute_result"
    }
   ],
   "source": [
    "df['artist_genres'].fillna(genre, inplace=True)\n",
    "df['artist_genres'].isnull().sum()"
   ]
  },
  {
   "cell_type": "code",
   "execution_count": 11,
   "id": "79023de3",
   "metadata": {},
   "outputs": [
    {
     "name": "stdout",
     "output_type": "stream",
     "text": [
      "0.114\n"
     ]
    }
   ],
   "source": [
    "acoustic=df['acousticness'].mode()[0]\n",
    "print(acoustic)"
   ]
  },
  {
   "cell_type": "code",
   "execution_count": 12,
   "id": "a6ac6c0f",
   "metadata": {},
   "outputs": [
    {
     "data": {
      "text/plain": [
       "0"
      ]
     },
     "execution_count": 12,
     "metadata": {},
     "output_type": "execute_result"
    }
   ],
   "source": [
    "df['acousticness'].fillna(acoustic, inplace=True)\n",
    "df['acousticness'].isnull().sum()"
   ]
  },
  {
   "cell_type": "code",
   "execution_count": 13,
   "id": "bdaf6b33",
   "metadata": {},
   "outputs": [
    {
     "name": "stdout",
     "output_type": "stream",
     "text": [
      "0.961\n"
     ]
    }
   ],
   "source": [
    "valence=df['valence'].mode()[0]\n",
    "print(valence)"
   ]
  },
  {
   "cell_type": "code",
   "execution_count": 14,
   "id": "9033b7d1",
   "metadata": {},
   "outputs": [
    {
     "data": {
      "text/plain": [
       "0"
      ]
     },
     "execution_count": 14,
     "metadata": {},
     "output_type": "execute_result"
    }
   ],
   "source": [
    "df['valence'].fillna(valence, inplace=True)\n",
    "df['valence'].isnull().sum()"
   ]
  },
  {
   "cell_type": "code",
   "execution_count": 15,
   "id": "d4b8438f",
   "metadata": {},
   "outputs": [
    {
     "name": "stdout",
     "output_type": "stream",
     "text": [
      "4.0\n"
     ]
    }
   ],
   "source": [
    "time=df['time_signature'].mode()[0]\n",
    "print(time)"
   ]
  },
  {
   "cell_type": "code",
   "execution_count": 16,
   "id": "e0928b27",
   "metadata": {},
   "outputs": [
    {
     "data": {
      "text/plain": [
       "0"
      ]
     },
     "execution_count": 16,
     "metadata": {},
     "output_type": "execute_result"
    }
   ],
   "source": [
    "df['time_signature'].fillna(time, inplace=True)\n",
    "df['time_signature'].isnull().sum()"
   ]
  },
  {
   "cell_type": "code",
   "execution_count": 17,
   "id": "283d02f6",
   "metadata": {},
   "outputs": [
    {
     "name": "stdout",
     "output_type": "stream",
     "text": [
      "0.0\n"
     ]
    }
   ],
   "source": [
    "tempo=df['tempo'].mode()[0]\n",
    "print(tempo)"
   ]
  },
  {
   "cell_type": "code",
   "execution_count": 18,
   "id": "ead4f825",
   "metadata": {},
   "outputs": [
    {
     "data": {
      "text/plain": [
       "0"
      ]
     },
     "execution_count": 18,
     "metadata": {},
     "output_type": "execute_result"
    }
   ],
   "source": [
    "df['tempo'].fillna(tempo, inplace=True)\n",
    "df['tempo'].isnull().sum()"
   ]
  },
  {
   "cell_type": "code",
   "execution_count": 19,
   "id": "85325a03",
   "metadata": {},
   "outputs": [
    {
     "name": "stdout",
     "output_type": "stream",
     "text": [
      "0.0305\n"
     ]
    }
   ],
   "source": [
    "speech=df['speechiness'].mode()[0]\n",
    "print(speech)"
   ]
  },
  {
   "cell_type": "code",
   "execution_count": 20,
   "id": "052320a2",
   "metadata": {},
   "outputs": [
    {
     "data": {
      "text/plain": [
       "0"
      ]
     },
     "execution_count": 20,
     "metadata": {},
     "output_type": "execute_result"
    }
   ],
   "source": [
    "df['speechiness'].fillna(speech, inplace=True)\n",
    "df['speechiness'].isnull().sum()"
   ]
  },
  {
   "cell_type": "code",
   "execution_count": 21,
   "id": "04999ba2",
   "metadata": {},
   "outputs": [
    {
     "name": "stdout",
     "output_type": "stream",
     "text": [
      "1.0\n"
     ]
    }
   ],
   "source": [
    "mode=df['mode'].mode()[0]\n",
    "print(mode)"
   ]
  },
  {
   "cell_type": "code",
   "execution_count": 22,
   "id": "120ce3ba",
   "metadata": {},
   "outputs": [
    {
     "data": {
      "text/plain": [
       "0"
      ]
     },
     "execution_count": 22,
     "metadata": {},
     "output_type": "execute_result"
    }
   ],
   "source": [
    "df['mode'].fillna(mode, inplace=True)\n",
    "df['mode'].isnull().sum()"
   ]
  },
  {
   "cell_type": "code",
   "execution_count": 23,
   "id": "40b5fe0b",
   "metadata": {},
   "outputs": [
    {
     "name": "stdout",
     "output_type": "stream",
     "text": [
      "-6.509\n"
     ]
    }
   ],
   "source": [
    "loud=df['loudness'].mode()[0]\n",
    "print(loud)"
   ]
  },
  {
   "cell_type": "code",
   "execution_count": 24,
   "id": "f63acb20",
   "metadata": {},
   "outputs": [
    {
     "data": {
      "text/plain": [
       "0"
      ]
     },
     "execution_count": 24,
     "metadata": {},
     "output_type": "execute_result"
    }
   ],
   "source": [
    "df['loudness'].fillna(loud, inplace=True)\n",
    "df['loudness'].isnull().sum()"
   ]
  },
  {
   "cell_type": "code",
   "execution_count": 25,
   "id": "db7001bb",
   "metadata": {},
   "outputs": [
    {
     "name": "stdout",
     "output_type": "stream",
     "text": [
      "0.111\n"
     ]
    }
   ],
   "source": [
    "live=df['liveness'].mode()[0]\n",
    "print(live)"
   ]
  },
  {
   "cell_type": "code",
   "execution_count": 26,
   "id": "5ac51234",
   "metadata": {},
   "outputs": [
    {
     "data": {
      "text/plain": [
       "0"
      ]
     },
     "execution_count": 26,
     "metadata": {},
     "output_type": "execute_result"
    }
   ],
   "source": [
    "df['liveness'].fillna(live, inplace=True)\n",
    "df['liveness'].isnull().sum()"
   ]
  },
  {
   "cell_type": "code",
   "execution_count": 27,
   "id": "2eff9a71",
   "metadata": {},
   "outputs": [
    {
     "name": "stdout",
     "output_type": "stream",
     "text": [
      "7.0\n"
     ]
    }
   ],
   "source": [
    "key=df['key'].mode()[0]\n",
    "print(key)"
   ]
  },
  {
   "cell_type": "code",
   "execution_count": 28,
   "id": "c61f5a71",
   "metadata": {},
   "outputs": [
    {
     "data": {
      "text/plain": [
       "0"
      ]
     },
     "execution_count": 28,
     "metadata": {},
     "output_type": "execute_result"
    }
   ],
   "source": [
    "df['key'].fillna(key, inplace=True)\n",
    "df['key'].isnull().sum()"
   ]
  },
  {
   "cell_type": "code",
   "execution_count": 29,
   "id": "315f5271",
   "metadata": {},
   "outputs": [
    {
     "name": "stdout",
     "output_type": "stream",
     "text": [
      "0.0\n"
     ]
    }
   ],
   "source": [
    "instrument=df['instrumentalness'].mode()[0]\n",
    "print(instrument)"
   ]
  },
  {
   "cell_type": "code",
   "execution_count": 30,
   "id": "2c760e5d",
   "metadata": {},
   "outputs": [
    {
     "data": {
      "text/plain": [
       "0"
      ]
     },
     "execution_count": 30,
     "metadata": {},
     "output_type": "execute_result"
    }
   ],
   "source": [
    "df['instrumentalness'].fillna(instrument, inplace=True)\n",
    "df['instrumentalness'].isnull().sum()"
   ]
  },
  {
   "cell_type": "code",
   "execution_count": 31,
   "id": "aa6a011c",
   "metadata": {},
   "outputs": [
    {
     "name": "stdout",
     "output_type": "stream",
     "text": [
      "0.768\n"
     ]
    }
   ],
   "source": [
    "energy=df['energy'].mode()[0]\n",
    "print(energy)"
   ]
  },
  {
   "cell_type": "code",
   "execution_count": 32,
   "id": "aa5ae8fb",
   "metadata": {},
   "outputs": [
    {
     "data": {
      "text/plain": [
       "0"
      ]
     },
     "execution_count": 32,
     "metadata": {},
     "output_type": "execute_result"
    }
   ],
   "source": [
    "df['energy'].fillna(energy, inplace=True)\n",
    "df['energy'].isnull().sum()"
   ]
  },
  {
   "cell_type": "code",
   "execution_count": 33,
   "id": "5900bd13",
   "metadata": {},
   "outputs": [
    {
     "name": "stdout",
     "output_type": "stream",
     "text": [
      "0.551\n"
     ]
    }
   ],
   "source": [
    "dance=df['danceability'].mode()[0]\n",
    "print(dance)"
   ]
  },
  {
   "cell_type": "code",
   "execution_count": 34,
   "id": "3aa85f84",
   "metadata": {},
   "outputs": [
    {
     "data": {
      "text/plain": [
       "0"
      ]
     },
     "execution_count": 34,
     "metadata": {},
     "output_type": "execute_result"
    }
   ],
   "source": [
    "df['danceability'].fillna(dance, inplace=True)\n",
    "df['danceability'].isnull().sum()"
   ]
  },
  {
   "cell_type": "code",
   "execution_count": 35,
   "id": "2e479959",
   "metadata": {},
   "outputs": [
    {
     "name": "stdout",
     "output_type": "stream",
     "text": [
      "84618954.0\n"
     ]
    }
   ],
   "source": [
    "follower=df['principal_artist_followers'].mode()[0]\n",
    "print(follower)"
   ]
  },
  {
   "cell_type": "code",
   "execution_count": 36,
   "id": "f384548e",
   "metadata": {},
   "outputs": [
    {
     "data": {
      "text/plain": [
       "0"
      ]
     },
     "execution_count": 36,
     "metadata": {},
     "output_type": "execute_result"
    }
   ],
   "source": [
    "df['principal_artist_followers'].fillna(follower, inplace=True)\n",
    "df['principal_artist_followers'].isnull().sum()"
   ]
  },
  {
   "cell_type": "code",
   "execution_count": 37,
   "id": "3ddd6ad6",
   "metadata": {},
   "outputs": [
    {
     "data": {
      "text/plain": [
       "Unnamed: 0.1                  0\n",
       "Unnamed: 0                    0\n",
       "year                          0\n",
       "valence                       0\n",
       "time_signature                0\n",
       "tempo                         0\n",
       "speechiness                   0\n",
       "mode                          0\n",
       "loudness                      0\n",
       "liveness                      0\n",
       "key                           0\n",
       "instrumentalness              0\n",
       "energy                        0\n",
       "danceability                  0\n",
       "acousticness                  0\n",
       "principal_artist_followers    0\n",
       "artist_genres                 0\n",
       "principal_artist_name         0\n",
       "artists_names                 0\n",
       "album_total_tracks            0\n",
       "album_type                    0\n",
       "album_release_date            0\n",
       "album_name                    0\n",
       "track_number                  0\n",
       "explicit                      0\n",
       "duration_ms                   0\n",
       "disc_number                   0\n",
       "popularity                    0\n",
       "track_name                    0\n",
       "duration_min                  0\n",
       "dtype: int64"
      ]
     },
     "execution_count": 37,
     "metadata": {},
     "output_type": "execute_result"
    }
   ],
   "source": [
    "df.isna().sum().sort_values(ascending=False)"
   ]
  },
  {
   "cell_type": "code",
   "execution_count": 38,
   "id": "cd85731b",
   "metadata": {},
   "outputs": [
    {
     "data": {
      "text/html": [
       "<div>\n",
       "<style scoped>\n",
       "    .dataframe tbody tr th:only-of-type {\n",
       "        vertical-align: middle;\n",
       "    }\n",
       "\n",
       "    .dataframe tbody tr th {\n",
       "        vertical-align: top;\n",
       "    }\n",
       "\n",
       "    .dataframe thead th {\n",
       "        text-align: right;\n",
       "    }\n",
       "</style>\n",
       "<table border=\"1\" class=\"dataframe\">\n",
       "  <thead>\n",
       "    <tr style=\"text-align: right;\">\n",
       "      <th></th>\n",
       "      <th>Unnamed: 0.1</th>\n",
       "      <th>Unnamed: 0</th>\n",
       "      <th>popularity</th>\n",
       "      <th>disc_number</th>\n",
       "      <th>duration_ms</th>\n",
       "      <th>track_number</th>\n",
       "      <th>album_total_tracks</th>\n",
       "      <th>principal_artist_followers</th>\n",
       "      <th>acousticness</th>\n",
       "      <th>danceability</th>\n",
       "      <th>...</th>\n",
       "      <th>key</th>\n",
       "      <th>liveness</th>\n",
       "      <th>loudness</th>\n",
       "      <th>mode</th>\n",
       "      <th>speechiness</th>\n",
       "      <th>tempo</th>\n",
       "      <th>time_signature</th>\n",
       "      <th>valence</th>\n",
       "      <th>year</th>\n",
       "      <th>duration_min</th>\n",
       "    </tr>\n",
       "  </thead>\n",
       "  <tbody>\n",
       "    <tr>\n",
       "      <th>count</th>\n",
       "      <td>11450.000000</td>\n",
       "      <td>11450.000000</td>\n",
       "      <td>11450.000000</td>\n",
       "      <td>11450.000000</td>\n",
       "      <td>1.145000e+04</td>\n",
       "      <td>11450.000000</td>\n",
       "      <td>11450.000000</td>\n",
       "      <td>1.145000e+04</td>\n",
       "      <td>11450.000000</td>\n",
       "      <td>11450.000000</td>\n",
       "      <td>...</td>\n",
       "      <td>11450.000000</td>\n",
       "      <td>11450.000000</td>\n",
       "      <td>11450.000000</td>\n",
       "      <td>11450.000000</td>\n",
       "      <td>11450.000000</td>\n",
       "      <td>11450.000000</td>\n",
       "      <td>11450.000000</td>\n",
       "      <td>11450.000000</td>\n",
       "      <td>11450.000000</td>\n",
       "      <td>11450.000000</td>\n",
       "    </tr>\n",
       "    <tr>\n",
       "      <th>mean</th>\n",
       "      <td>5724.500000</td>\n",
       "      <td>719.259825</td>\n",
       "      <td>67.999301</td>\n",
       "      <td>1.017380</td>\n",
       "      <td>2.301816e+05</td>\n",
       "      <td>5.251790</td>\n",
       "      <td>14.206550</td>\n",
       "      <td>9.690021e+06</td>\n",
       "      <td>0.225673</td>\n",
       "      <td>0.610903</td>\n",
       "      <td>...</td>\n",
       "      <td>5.267598</td>\n",
       "      <td>0.182967</td>\n",
       "      <td>-7.533476</td>\n",
       "      <td>0.677817</td>\n",
       "      <td>0.087593</td>\n",
       "      <td>121.015040</td>\n",
       "      <td>3.931616</td>\n",
       "      <td>0.538260</td>\n",
       "      <td>2004.248908</td>\n",
       "      <td>3.836360</td>\n",
       "    </tr>\n",
       "    <tr>\n",
       "      <th>std</th>\n",
       "      <td>3305.474626</td>\n",
       "      <td>444.374593</td>\n",
       "      <td>9.334255</td>\n",
       "      <td>0.195043</td>\n",
       "      <td>1.181226e+05</td>\n",
       "      <td>4.415936</td>\n",
       "      <td>9.548194</td>\n",
       "      <td>1.826392e+07</td>\n",
       "      <td>0.261472</td>\n",
       "      <td>0.161300</td>\n",
       "      <td>...</td>\n",
       "      <td>3.543672</td>\n",
       "      <td>0.145018</td>\n",
       "      <td>3.775833</td>\n",
       "      <td>0.467333</td>\n",
       "      <td>0.092973</td>\n",
       "      <td>30.182938</td>\n",
       "      <td>0.352357</td>\n",
       "      <td>0.245022</td>\n",
       "      <td>11.030970</td>\n",
       "      <td>1.968709</td>\n",
       "    </tr>\n",
       "    <tr>\n",
       "      <th>min</th>\n",
       "      <td>0.000000</td>\n",
       "      <td>0.000000</td>\n",
       "      <td>44.000000</td>\n",
       "      <td>1.000000</td>\n",
       "      <td>3.349300e+04</td>\n",
       "      <td>1.000000</td>\n",
       "      <td>1.000000</td>\n",
       "      <td>3.100000e+01</td>\n",
       "      <td>0.000000</td>\n",
       "      <td>0.000000</td>\n",
       "      <td>...</td>\n",
       "      <td>0.000000</td>\n",
       "      <td>0.000000</td>\n",
       "      <td>-47.070000</td>\n",
       "      <td>0.000000</td>\n",
       "      <td>0.000000</td>\n",
       "      <td>0.000000</td>\n",
       "      <td>0.000000</td>\n",
       "      <td>0.000000</td>\n",
       "      <td>1986.000000</td>\n",
       "      <td>0.558217</td>\n",
       "    </tr>\n",
       "    <tr>\n",
       "      <th>25%</th>\n",
       "      <td>2862.250000</td>\n",
       "      <td>326.000000</td>\n",
       "      <td>61.000000</td>\n",
       "      <td>1.000000</td>\n",
       "      <td>1.917228e+05</td>\n",
       "      <td>2.000000</td>\n",
       "      <td>11.000000</td>\n",
       "      <td>9.069540e+05</td>\n",
       "      <td>0.018300</td>\n",
       "      <td>0.507000</td>\n",
       "      <td>...</td>\n",
       "      <td>2.000000</td>\n",
       "      <td>0.092200</td>\n",
       "      <td>-9.207750</td>\n",
       "      <td>0.000000</td>\n",
       "      <td>0.033900</td>\n",
       "      <td>96.948500</td>\n",
       "      <td>4.000000</td>\n",
       "      <td>0.346000</td>\n",
       "      <td>1995.000000</td>\n",
       "      <td>3.195379</td>\n",
       "    </tr>\n",
       "    <tr>\n",
       "      <th>50%</th>\n",
       "      <td>5724.500000</td>\n",
       "      <td>696.000000</td>\n",
       "      <td>68.000000</td>\n",
       "      <td>1.000000</td>\n",
       "      <td>2.232135e+05</td>\n",
       "      <td>4.000000</td>\n",
       "      <td>13.000000</td>\n",
       "      <td>2.901792e+06</td>\n",
       "      <td>0.112000</td>\n",
       "      <td>0.621000</td>\n",
       "      <td>...</td>\n",
       "      <td>5.000000</td>\n",
       "      <td>0.125000</td>\n",
       "      <td>-6.719500</td>\n",
       "      <td>1.000000</td>\n",
       "      <td>0.047300</td>\n",
       "      <td>119.210500</td>\n",
       "      <td>4.000000</td>\n",
       "      <td>0.541000</td>\n",
       "      <td>2004.000000</td>\n",
       "      <td>3.720225</td>\n",
       "    </tr>\n",
       "    <tr>\n",
       "      <th>75%</th>\n",
       "      <td>8586.750000</td>\n",
       "      <td>1105.000000</td>\n",
       "      <td>75.000000</td>\n",
       "      <td>1.000000</td>\n",
       "      <td>2.591132e+05</td>\n",
       "      <td>8.000000</td>\n",
       "      <td>16.000000</td>\n",
       "      <td>8.626437e+06</td>\n",
       "      <td>0.362000</td>\n",
       "      <td>0.728000</td>\n",
       "      <td>...</td>\n",
       "      <td>8.000000</td>\n",
       "      <td>0.237000</td>\n",
       "      <td>-5.021000</td>\n",
       "      <td>1.000000</td>\n",
       "      <td>0.093600</td>\n",
       "      <td>140.058750</td>\n",
       "      <td>4.000000</td>\n",
       "      <td>0.736000</td>\n",
       "      <td>2014.000000</td>\n",
       "      <td>4.318554</td>\n",
       "    </tr>\n",
       "    <tr>\n",
       "      <th>max</th>\n",
       "      <td>11449.000000</td>\n",
       "      <td>1599.000000</td>\n",
       "      <td>100.000000</td>\n",
       "      <td>10.000000</td>\n",
       "      <td>1.082819e+07</td>\n",
       "      <td>48.000000</td>\n",
       "      <td>176.000000</td>\n",
       "      <td>1.146750e+08</td>\n",
       "      <td>0.996000</td>\n",
       "      <td>0.988000</td>\n",
       "      <td>...</td>\n",
       "      <td>11.000000</td>\n",
       "      <td>0.982000</td>\n",
       "      <td>0.522000</td>\n",
       "      <td>1.000000</td>\n",
       "      <td>0.944000</td>\n",
       "      <td>220.099000</td>\n",
       "      <td>5.000000</td>\n",
       "      <td>0.994000</td>\n",
       "      <td>2023.000000</td>\n",
       "      <td>180.469833</td>\n",
       "    </tr>\n",
       "  </tbody>\n",
       "</table>\n",
       "<p>8 rows × 22 columns</p>\n",
       "</div>"
      ],
      "text/plain": [
       "       Unnamed: 0.1    Unnamed: 0    popularity   disc_number   duration_ms  \\\n",
       "count  11450.000000  11450.000000  11450.000000  11450.000000  1.145000e+04   \n",
       "mean    5724.500000    719.259825     67.999301      1.017380  2.301816e+05   \n",
       "std     3305.474626    444.374593      9.334255      0.195043  1.181226e+05   \n",
       "min        0.000000      0.000000     44.000000      1.000000  3.349300e+04   \n",
       "25%     2862.250000    326.000000     61.000000      1.000000  1.917228e+05   \n",
       "50%     5724.500000    696.000000     68.000000      1.000000  2.232135e+05   \n",
       "75%     8586.750000   1105.000000     75.000000      1.000000  2.591132e+05   \n",
       "max    11449.000000   1599.000000    100.000000     10.000000  1.082819e+07   \n",
       "\n",
       "       track_number  album_total_tracks  principal_artist_followers  \\\n",
       "count  11450.000000        11450.000000                1.145000e+04   \n",
       "mean       5.251790           14.206550                9.690021e+06   \n",
       "std        4.415936            9.548194                1.826392e+07   \n",
       "min        1.000000            1.000000                3.100000e+01   \n",
       "25%        2.000000           11.000000                9.069540e+05   \n",
       "50%        4.000000           13.000000                2.901792e+06   \n",
       "75%        8.000000           16.000000                8.626437e+06   \n",
       "max       48.000000          176.000000                1.146750e+08   \n",
       "\n",
       "       acousticness  danceability  ...           key      liveness  \\\n",
       "count  11450.000000  11450.000000  ...  11450.000000  11450.000000   \n",
       "mean       0.225673      0.610903  ...      5.267598      0.182967   \n",
       "std        0.261472      0.161300  ...      3.543672      0.145018   \n",
       "min        0.000000      0.000000  ...      0.000000      0.000000   \n",
       "25%        0.018300      0.507000  ...      2.000000      0.092200   \n",
       "50%        0.112000      0.621000  ...      5.000000      0.125000   \n",
       "75%        0.362000      0.728000  ...      8.000000      0.237000   \n",
       "max        0.996000      0.988000  ...     11.000000      0.982000   \n",
       "\n",
       "           loudness          mode   speechiness         tempo  time_signature  \\\n",
       "count  11450.000000  11450.000000  11450.000000  11450.000000    11450.000000   \n",
       "mean      -7.533476      0.677817      0.087593    121.015040        3.931616   \n",
       "std        3.775833      0.467333      0.092973     30.182938        0.352357   \n",
       "min      -47.070000      0.000000      0.000000      0.000000        0.000000   \n",
       "25%       -9.207750      0.000000      0.033900     96.948500        4.000000   \n",
       "50%       -6.719500      1.000000      0.047300    119.210500        4.000000   \n",
       "75%       -5.021000      1.000000      0.093600    140.058750        4.000000   \n",
       "max        0.522000      1.000000      0.944000    220.099000        5.000000   \n",
       "\n",
       "            valence          year  duration_min  \n",
       "count  11450.000000  11450.000000  11450.000000  \n",
       "mean       0.538260   2004.248908      3.836360  \n",
       "std        0.245022     11.030970      1.968709  \n",
       "min        0.000000   1986.000000      0.558217  \n",
       "25%        0.346000   1995.000000      3.195379  \n",
       "50%        0.541000   2004.000000      3.720225  \n",
       "75%        0.736000   2014.000000      4.318554  \n",
       "max        0.994000   2023.000000    180.469833  \n",
       "\n",
       "[8 rows x 22 columns]"
      ]
     },
     "execution_count": 38,
     "metadata": {},
     "output_type": "execute_result"
    }
   ],
   "source": [
    "df.describe()"
   ]
  },
  {
   "cell_type": "code",
   "execution_count": null,
   "id": "f38694f2",
   "metadata": {},
   "outputs": [],
   "source": []
  }
 ],
 "metadata": {
  "kernelspec": {
   "display_name": "Python 3 (ipykernel)",
   "language": "python",
   "name": "python3"
  },
  "language_info": {
   "codemirror_mode": {
    "name": "ipython",
    "version": 3
   },
   "file_extension": ".py",
   "mimetype": "text/x-python",
   "name": "python",
   "nbconvert_exporter": "python",
   "pygments_lexer": "ipython3",
   "version": "3.9.17"
  }
 },
 "nbformat": 4,
 "nbformat_minor": 5
}
